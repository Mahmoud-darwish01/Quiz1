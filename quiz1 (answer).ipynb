{
 "cells": [
  {
   "cell_type": "code",
   "execution_count": 2,
   "metadata": {},
   "outputs": [
    {
     "name": "stdout",
     "output_type": "stream",
     "text": [
      "20\n"
     ]
    }
   ],
   "source": [
    "import cv2 # allows to use opencv library\n",
    "import numpy as np#  access to numpy library for fast array calculations\n",
    "import matplotlib.pyplot as plt# access to library that allows for the image to be plotted\n",
    "\n",
    "img=cv2.imread(\"lego1.png\")# read the image lego1\n",
    "grayscaled = cv2.cvtColor(img,cv2.COLOR_BGR2GRAY)# changes the image from colour to binary picture\n",
    "rth2,th2= cv2.threshold(grayscaled,150,255,cv2.THRESH_BINARY)# Applying threshhold,any pixel value is greater than 150, it is  white and vice versa\n",
    "\n",
    "kernel = np.ones((10,10),np.float32)/9# create a mask matrix of ones 10 by 10, divided by 9 to average the noise\n",
    "opening = cv2.morphologyEx(th2, cv2.MORPH_OPEN, kernel)#carryout erosion followed by dilution,closing small holes in the background\n",
    "\n",
    "\n",
    "kernel2 = np.ones((3,3),np.float32)/9 #create a mask matrix of ones 3 by 3, divided by 9 to average the noise\n",
    "closing = cv2.morphologyEx(opening, cv2.MORPH_CLOSE, kernel2)#dilution followed by erosion using kernel2 filter window,for closing small holes inside the objects\n",
    "gaus=cv2.GaussianBlur(closing,(3,3),1)# use Gaussian filter with a window of 3 by 3 to remove noise\n",
    "\n",
    "edged=cv2.Canny(gaus,30,200)# detect the edges of the image with a minimumThreshhold:maximumThreshold of 30:200\n",
    "contours,hier=cv2.findContours(edged,cv2.RETR_EXTERNAL,cv2.CHAIN_APPROX_NONE)#using function Contour to find the shape of enclosed object,Argument:cv2.RETR_EXTERNAL uses the external border as a contour retrieval mode \n",
    "number=str(len(contours))# count number of countours found in the image\n",
    "\n",
    "print(number)\n",
    "cv2.imshow(\"picture\",img)# show the image stored in img\n",
    "cv2.imshow(\"threshold\",th2)#show the image after threshold\n",
    "cv2.imshow('filter1',opening)#show the image after applying open filter\n",
    "cv2.imshow('filter2',closing)#show the image after applying ClOSE filter\n",
    "cv2.imshow('filter3',gaus)#show the image after applying gaussian filter\n",
    "cv2.imshow('edged',edged)#show the image with the edges display\n",
    "cv2.waitKey(0)# hold the image on display\n",
    "cv2.destroyAllWindows()# delete the display after pressing any key\n"
   ]
  },
  {
   "cell_type": "code",
   "execution_count": null,
   "metadata": {},
   "outputs": [],
   "source": []
  }
 ],
 "metadata": {
  "kernelspec": {
   "display_name": "Python 3",
   "language": "python",
   "name": "python3"
  },
  "language_info": {
   "codemirror_mode": {
    "name": "ipython",
    "version": 3
   },
   "file_extension": ".py",
   "mimetype": "text/x-python",
   "name": "python",
   "nbconvert_exporter": "python",
   "pygments_lexer": "ipython3",
   "version": "3.8.5"
  }
 },
 "nbformat": 4,
 "nbformat_minor": 4
}
